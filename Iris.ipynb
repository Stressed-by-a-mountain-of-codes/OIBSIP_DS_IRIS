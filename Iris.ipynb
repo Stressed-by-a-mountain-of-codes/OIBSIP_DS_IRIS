{
 "cells": [
  {
   "cell_type": "code",
   "execution_count": 1,
   "id": "73d99cd3-d741-47b5-9485-3cbac71bb4e1",
   "metadata": {},
   "outputs": [
    {
     "name": "stdout",
     "output_type": "stream",
     "text": [
      "Dataset shape: (150, 6)\n",
      "\n",
      "First few rows:\n",
      "   Id  SepalLengthCm  SepalWidthCm  PetalLengthCm  PetalWidthCm      Species\n",
      "0   1            5.1           3.5            1.4           0.2  Iris-setosa\n",
      "1   2            4.9           3.0            1.4           0.2  Iris-setosa\n",
      "2   3            4.7           3.2            1.3           0.2  Iris-setosa\n",
      "3   4            4.6           3.1            1.5           0.2  Iris-setosa\n",
      "4   5            5.0           3.6            1.4           0.2  Iris-setosa\n",
      "\n",
      "Dataset info:\n",
      "<class 'pandas.core.frame.DataFrame'>\n",
      "RangeIndex: 150 entries, 0 to 149\n",
      "Data columns (total 6 columns):\n",
      " #   Column         Non-Null Count  Dtype  \n",
      "---  ------         --------------  -----  \n",
      " 0   Id             150 non-null    int64  \n",
      " 1   SepalLengthCm  150 non-null    float64\n",
      " 2   SepalWidthCm   150 non-null    float64\n",
      " 3   PetalLengthCm  150 non-null    float64\n",
      " 4   PetalWidthCm   150 non-null    float64\n",
      " 5   Species        150 non-null    object \n",
      "dtypes: float64(4), int64(1), object(1)\n",
      "memory usage: 7.2+ KB\n",
      "None\n"
     ]
    }
   ],
   "source": [
    "# Import necessary libraries\n",
    "import pandas as pd\n",
    "import numpy as np\n",
    "from sklearn.model_selection import train_test_split\n",
    "from sklearn.ensemble import RandomForestClassifier\n",
    "from sklearn.metrics import accuracy_score, classification_report, confusion_matrix\n",
    "import seaborn as sns\n",
    "import matplotlib.pyplot as plt\n",
    "\n",
    "# Load the dataset\n",
    "df = pd.read_csv(r\"C:\\Users\\heave\\OneDrive\\Desktop\\Oasis Infobyte\\Project 1\\Iris.csv\")\n",
    "\n",
    "# Display basic info about the dataset\n",
    "print(\"Dataset shape:\", df.shape)\n",
    "print(\"\\nFirst few rows:\")\n",
    "print(df.head())\n",
    "print(\"\\nDataset info:\")\n",
    "print(df.info())"
   ]
  },
  {
   "cell_type": "code",
   "execution_count": 2,
   "id": "b08fdc60-7ced-4c08-ab0c-373c82021e32",
   "metadata": {},
   "outputs": [
    {
     "name": "stdout",
     "output_type": "stream",
     "text": [
      "Species distribution:\n",
      "Species\n",
      "Iris-setosa        50\n",
      "Iris-versicolor    50\n",
      "Iris-virginica     50\n",
      "Name: count, dtype: int64\n",
      "\n",
      "Basic statistics:\n",
      "               Id  SepalLengthCm  SepalWidthCm  PetalLengthCm  PetalWidthCm\n",
      "count  150.000000     150.000000    150.000000     150.000000    150.000000\n",
      "mean    75.500000       5.843333      3.054000       3.758667      1.198667\n",
      "std     43.445368       0.828066      0.433594       1.764420      0.763161\n",
      "min      1.000000       4.300000      2.000000       1.000000      0.100000\n",
      "25%     38.250000       5.100000      2.800000       1.600000      0.300000\n",
      "50%     75.500000       5.800000      3.000000       4.350000      1.300000\n",
      "75%    112.750000       6.400000      3.300000       5.100000      1.800000\n",
      "max    150.000000       7.900000      4.400000       6.900000      2.500000\n",
      "\n",
      "Missing values: 0\n",
      "\n",
      "Unique species: ['Iris-setosa' 'Iris-versicolor' 'Iris-virginica']\n"
     ]
    }
   ],
   "source": [
    "# Check species distribution and basic statistics\n",
    "print(\"Species distribution:\")\n",
    "print(df['Species'].value_counts())\n",
    "print(\"\\nBasic statistics:\")\n",
    "print(df.describe())\n",
    "\n",
    "# Drop the Id column as it's not needed for classification\n",
    "df = df.drop('Id', axis=1)\n",
    "\n",
    "# Check for any missing values\n",
    "print(f\"\\nMissing values: {df.isnull().sum().sum()}\")\n",
    "\n",
    "# Display unique species\n",
    "print(f\"\\nUnique species: {df['Species'].unique()}\")"
   ]
  },
  {
   "cell_type": "code",
   "execution_count": 3,
   "id": "21052fac-ea66-40a6-ba0e-ac925ba1ed41",
   "metadata": {},
   "outputs": [
    {
     "name": "stdout",
     "output_type": "stream",
     "text": [
      "Training set size: 120\n",
      "Testing set size: 30\n",
      "\n",
      "Training set species distribution:\n",
      "Species\n",
      "Iris-setosa        40\n",
      "Iris-virginica     40\n",
      "Iris-versicolor    40\n",
      "Name: count, dtype: int64\n",
      "\n",
      "Model trained successfully!\n"
     ]
    }
   ],
   "source": [
    "# Prepare features and target\n",
    "X = df.drop('Species', axis=1)  # Features: the 4 measurements\n",
    "y = df['Species']  # Target: species\n",
    "\n",
    "# Split the data into training and testing sets\n",
    "X_train, X_test, y_train, y_test = train_test_split(X, y, test_size=0.2, random_state=42, stratify=y)\n",
    "\n",
    "print(f\"Training set size: {X_train.shape[0]}\")\n",
    "print(f\"Testing set size: {X_test.shape[0]}\")\n",
    "print(f\"\\nTraining set species distribution:\")\n",
    "print(y_train.value_counts())\n",
    "\n",
    "# Train a Random Forest model (fast and accurate for this dataset)\n",
    "model = RandomForestClassifier(n_estimators=100, random_state=42)\n",
    "model.fit(X_train, y_train)\n",
    "\n",
    "print(\"\\nModel trained successfully!\")"
   ]
  },
  {
   "cell_type": "code",
   "execution_count": 4,
   "id": "2b6b3147-c4f0-42db-bb36-a065073fc4ab",
   "metadata": {},
   "outputs": [
    {
     "name": "stdout",
     "output_type": "stream",
     "text": [
      "Model Accuracy: 0.9000 (90.00%)\n",
      "\n",
      "Classification Report:\n",
      "                 precision    recall  f1-score   support\n",
      "\n",
      "    Iris-setosa       1.00      1.00      1.00        10\n",
      "Iris-versicolor       0.82      0.90      0.86        10\n",
      " Iris-virginica       0.89      0.80      0.84        10\n",
      "\n",
      "       accuracy                           0.90        30\n",
      "      macro avg       0.90      0.90      0.90        30\n",
      "   weighted avg       0.90      0.90      0.90        30\n",
      "\n",
      "\n",
      "Confusion Matrix:\n",
      "[[10  0  0]\n",
      " [ 0  9  1]\n",
      " [ 0  2  8]]\n",
      "\n",
      "Feature Importance:\n",
      "SepalLengthCm: 0.1163\n",
      "SepalWidthCm: 0.0150\n",
      "PetalLengthCm: 0.4315\n",
      "PetalWidthCm: 0.4372\n"
     ]
    }
   ],
   "source": [
    "# Make predictions\n",
    "y_pred = model.predict(X_test)\n",
    "\n",
    "# Calculate accuracy\n",
    "accuracy = accuracy_score(y_test, y_pred)\n",
    "print(f\"Model Accuracy: {accuracy:.4f} ({accuracy*100:.2f}%)\")\n",
    "\n",
    "# Detailed classification report\n",
    "print(\"\\nClassification Report:\")\n",
    "print(classification_report(y_test, y_pred))\n",
    "\n",
    "# Confusion Matrix\n",
    "print(\"\\nConfusion Matrix:\")\n",
    "cm = confusion_matrix(y_test, y_pred)\n",
    "print(cm)\n",
    "\n",
    "# Feature importance\n",
    "print(\"\\nFeature Importance:\")\n",
    "feature_names = X.columns\n",
    "importances = model.feature_importances_\n",
    "for name, importance in zip(feature_names, importances):\n",
    "    print(f\"{name}: {importance:.4f}\")"
   ]
  },
  {
   "cell_type": "code",
   "execution_count": 5,
   "id": "82026402-f6ce-47f2-9251-eedefce64544",
   "metadata": {},
   "outputs": [
    {
     "data": {
      "image/png": "[encoded data removed]",
      "text/plain": [
       "<Figure size 1000x400 with 3 Axes>"
      ]
     },
     "metadata": {},
     "output_type": "display_data"
    },
    {
     "name": "stdout",
     "output_type": "stream",
     "text": [
      "\n",
      "==================================================\n",
      "FINAL MODEL SUMMARY\n",
      "==================================================\n",
      "✅ Model Accuracy: 90.0%\n",
      "✅ Perfect classification of Iris-setosa (100%)\n",
      "✅ Most important features: Petal Length & Petal Width\n",
      "✅ Model ready for deployment!\n",
      "\n",
      "🌸 Sample prediction: Iris-setosa (Input: [5.1, 3.5, 1.4, 0.2])\n"
     ]
    },
    {
     "name": "stderr",
     "output_type": "stream",
     "text": [
      "C:\\ProgramData\\anaconda3\\Lib\\site-packages\\sklearn\\base.py:493: UserWarning: X does not have valid feature names, but RandomForestClassifier was fitted with feature names\n",
      "  warnings.warn(\n"
     ]
    }
   ],
   "source": [
    "# Quick visualization of feature importance\n",
    "plt.figure(figsize=(10, 4))\n",
    "\n",
    "# Feature importance plot\n",
    "plt.subplot(1, 2, 1)\n",
    "plt.bar(feature_names, importances)\n",
    "plt.title('Feature Importance')\n",
    "plt.xticks(rotation=45)\n",
    "plt.tight_layout()\n",
    "\n",
    "# Confusion matrix heatmap\n",
    "plt.subplot(1, 2, 2)\n",
    "sns.heatmap(cm, annot=True, fmt='d', cmap='Blues', \n",
    "            xticklabels=['setosa', 'versicolor', 'virginica'],\n",
    "            yticklabels=['setosa', 'versicolor', 'virginica'])\n",
    "plt.title('Confusion Matrix')\n",
    "plt.ylabel('Actual')\n",
    "plt.xlabel('Predicted')\n",
    "plt.tight_layout()\n",
    "plt.show()\n",
    "\n",
    "# Test with a sample prediction\n",
    "print(\"\\n\" + \"=\"*50)\n",
    "print(\"FINAL MODEL SUMMARY\")\n",
    "print(\"=\"*50)\n",
    "print(f\"✅ Model Accuracy: {accuracy*100:.1f}%\")\n",
    "print(f\"✅ Perfect classification of Iris-setosa (100%)\")\n",
    "print(f\"✅ Most important features: Petal Length & Petal Width\")\n",
    "print(f\"✅ Model ready for deployment!\")\n",
    "\n",
    "# Demo prediction\n",
    "sample_data = [[5.1, 3.5, 1.4, 0.2]]  # Typical setosa measurements\n",
    "prediction = model.predict(sample_data)\n",
    "print(f\"\\n🌸 Sample prediction: {prediction[0]} (Input: {sample_data[0]})\")"
   ]
  },
  {
   "cell_type": "code",
   "execution_count": null,
   "id": "a1d7fc31-170f-4ed8-b060-c84348771253",
   "metadata": {},
   "outputs": [],
   "source": []
  }
 ],
 "metadata": {
  "kernelspec": {
   "display_name": "Python 3 (ipykernel)",
   "language": "python",
   "name": "python3"
  },
  "language_info": {
   "codemirror_mode": {
    "name": "ipython",
    "version": 3
   },
   "file_extension": ".py",
   "mimetype": "text/x-python",
   "name": "python",
   "nbconvert_exporter": "python",
   "pygments_lexer": "ipython3",
   "version": "3.12.7"
  }
 },
 "nbformat": 4,
 "nbformat_minor": 5
}
